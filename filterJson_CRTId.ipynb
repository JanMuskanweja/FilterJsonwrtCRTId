{
 "cells": [
  {
   "cell_type": "code",
   "execution_count": 2,
   "id": "39be54b7",
   "metadata": {},
   "outputs": [
    {
     "name": "stdout",
     "output_type": "stream",
     "text": [
      "CRTId added to the dataset and saved to 'output.json'.\n"
     ]
    }
   ],
   "source": [
    "import json\n",
    "\n",
    "# Load the JSON data from the input file\n",
    "with open('valx_csv_to_json.json', 'r') as input_file:\n",
    "    data = [json.loads(line) for line in input_file]\n",
    "\n",
    "# Iterate through the data and add the \"CRTId\" field\n",
    "for idx, entry in enumerate(data):\n",
    "    entry[\"CRTId\"] = idx + 1\n",
    "\n",
    "# Save the updated data to a new JSON file\n",
    "with open('valx_CRTId.json', 'w') as output_file:\n",
    "    for entry in data:\n",
    "        json.dump(entry, output_file)\n",
    "        output_file.write('\\n')\n",
    "\n",
    "print(\"CRTId added to the dataset and saved to 'output.json'.\")"
   ]
  },
  {
   "cell_type": "code",
   "execution_count": 3,
   "id": "194d8527",
   "metadata": {},
   "outputs": [
    {
     "name": "stdout",
     "output_type": "stream",
     "text": [
      "Data for CRTId range 100 to 250 retrieved and saved to '<_io.TextIOWrapper name='filtered_data.json' mode='w' encoding='cp1252'>'.\n"
     ]
    }
   ],
   "source": [
    "import json\n",
    "\n",
    "# Function to retrieve data for a specified range of CRTId values\n",
    "def retrieve_data_by_crtid_range(input_file, output_file, start_crtid, end_crtid):\n",
    "    # Load the JSON data from the input file\n",
    "    with open(input_file, 'r') as input_file:\n",
    "        data = [json.loads(line) for line in input_file]\n",
    "\n",
    "    # Filter data for the specified CRTId range\n",
    "    filtered_data = [entry for entry in data if start_crtid <= entry.get(\"CRTId\", 0) <= end_crtid]\n",
    "\n",
    "    # Save the filtered data to the output file\n",
    "    with open(output_file, 'w') as output_file:\n",
    "        for entry in filtered_data:\n",
    "            json.dump(entry, output_file)\n",
    "            output_file.write('\\n')\n",
    "\n",
    "    print(f\"Data for CRTId range {start_crtid} to {end_crtid} retrieved and saved to '{output_file}'.\")\n",
    "\n",
    "\n",
    "start_crtid = 100\n",
    "end_crtid = 250\n",
    "retrieve_data_by_crtid_range('valx_CRTId.json', 'filtered_data.json', start_crtid, end_crtid)\n"
   ]
  },
  {
   "cell_type": "code",
   "execution_count": null,
   "id": "43ed6757",
   "metadata": {},
   "outputs": [],
   "source": []
  }
 ],
 "metadata": {
  "kernelspec": {
   "display_name": "Python 3 (ipykernel)",
   "language": "python",
   "name": "python3"
  },
  "language_info": {
   "codemirror_mode": {
    "name": "ipython",
    "version": 3
   },
   "file_extension": ".py",
   "mimetype": "text/x-python",
   "name": "python",
   "nbconvert_exporter": "python",
   "pygments_lexer": "ipython3",
   "version": "3.11.4"
  }
 },
 "nbformat": 4,
 "nbformat_minor": 5
}
